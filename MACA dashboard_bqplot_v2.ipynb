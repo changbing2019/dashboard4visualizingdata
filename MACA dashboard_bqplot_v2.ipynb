{
 "cells": [
  {
   "cell_type": "markdown",
   "metadata": {},
   "source": [
    "### This script is to write a dashboard for visualizing  precipitation and temperature from the downscaled GCMs with MACA at the Frio and Blanco basins"
   ]
  },
  {
   "cell_type": "markdown",
   "metadata": {},
   "source": [
    "\n",
    "Note:\n",
    "  Input: the daily precipitation and temperature at the contributing and recahrge zones at the Frio basin\n",
    "\n",
    "the csv files are located at ..\\dataPre and ..\\dataT"
   ]
  },
  {
   "cell_type": "markdown",
   "metadata": {},
   "source": [
    "### Section 1: Load some general python modoles"
   ]
  },
  {
   "cell_type": "code",
   "execution_count": 1,
   "metadata": {},
   "outputs": [],
   "source": [
    "# in case the following two modules are not installed\n",
    "## !pip install ipywidgets\n",
    "## pip install bqplot"
   ]
  },
  {
   "cell_type": "code",
   "execution_count": 2,
   "metadata": {},
   "outputs": [],
   "source": [
    "import numpy as np\n",
    "import random\n",
    "import pandas as pd\n",
    "import bqplot.pyplot as plt\n",
    "from bqplot import *"
   ]
  },
  {
   "cell_type": "code",
   "execution_count": 3,
   "metadata": {},
   "outputs": [],
   "source": [
    "import os, glob"
   ]
  },
  {
   "cell_type": "code",
   "execution_count": 4,
   "metadata": {},
   "outputs": [],
   "source": [
    "import ipywidgets as widgets\n",
    "from ipywidgets import interact, interactive, fixed, interact_manual,Layout,TwoByTwoLayout,GridspecLayout,Box\n",
    "import datetime"
   ]
  },
  {
   "cell_type": "code",
   "execution_count": null,
   "metadata": {},
   "outputs": [],
   "source": []
  },
  {
   "cell_type": "markdown",
   "metadata": {},
   "source": [
    "### Section 2: Load the class of data analysis customized for the Frio basin \n",
    "\n",
    "\n",
    "The class is included in the python code, dataanalysis.py\n"
   ]
  },
  {
   "cell_type": "code",
   "execution_count": 5,
   "metadata": {},
   "outputs": [],
   "source": [
    "from DataAnalysis import Macadata"
   ]
  },
  {
   "cell_type": "code",
   "execution_count": null,
   "metadata": {},
   "outputs": [],
   "source": []
  },
  {
   "cell_type": "code",
   "execution_count": 6,
   "metadata": {},
   "outputs": [],
   "source": [
    "### get the current file path\n",
    "\n",
    "filepath=os.getcwd()"
   ]
  },
  {
   "cell_type": "code",
   "execution_count": 7,
   "metadata": {},
   "outputs": [
    {
     "data": {
      "text/plain": [
       "'D:\\\\downscaled GCMS\\\\MACA\\\\4github'"
      ]
     },
     "execution_count": 7,
     "metadata": {},
     "output_type": "execute_result"
    }
   ],
   "source": [
    "filepath"
   ]
  },
  {
   "cell_type": "code",
   "execution_count": 8,
   "metadata": {},
   "outputs": [],
   "source": [
    "### this file is stored the color names for HTML \n",
    "colors=pd.read_csv(os.path.join(filepath,'colors.csv'))"
   ]
  },
  {
   "cell_type": "code",
   "execution_count": 9,
   "metadata": {},
   "outputs": [],
   "source": [
    "colorline=colors['ColorName'].str.strip().to_list()"
   ]
  },
  {
   "cell_type": "markdown",
   "metadata": {},
   "source": [
    "### Section 3 Write the dashboard for data visualizion"
   ]
  },
  {
   "cell_type": "code",
   "execution_count": 10,
   "metadata": {},
   "outputs": [],
   "source": [
    "def initializing_plot():\n",
    "    \n",
    "    if rcpwdge.value=='RCP 4.5':\n",
    "        rcp='rcp45'\n",
    "    else:\n",
    "        rcp='rcp85'\n",
    "    zone=zonewdge.value[:5]\n",
    "    if Tunitwdge.value=='C':\n",
    "        itunit=1\n",
    "    if Tunitwdge.value=='F':\n",
    "        itunit=2\n",
    "    if Tunitwdge.value=='K':\n",
    "        itunit=3\n",
    "    if Punitwdge.value=='mm':\n",
    "        ipunit=2\n",
    "    \n",
    "    if Punitwdge.value=='inches':\n",
    "        ipunit=1\n",
    "    dfT=[]\n",
    "    dfP=[]\n",
    "    sel_maca=[]\n",
    "    sel_basin=[]\n",
    "    for basin in basinwdge.value:\n",
    "        objdata=Macadata(basin,filepath,zone,rcp,ipunit,itunit,False)\n",
    "    \n",
    "        for macamodel in macamodelwdge.value:\n",
    "            sel_maca.append(basin)\n",
    "            sel_basin.append(macamodel)\n",
    "            if timewdge.value=='Daily':\n",
    "                dfT.append(objdata.dailyT[macamodel])\n",
    "                dfP.append(objdata.dailyP[macamodel])\n",
    "            if timewdge.value=='Monthly':\n",
    "                dfT.append(objdata.monthlyT[macamodel])\n",
    "                dfP.append(objdata.monthlyP[macamodel])\n",
    "            if timewdge.value=='Yearly':\n",
    "                dfT.append(objdata.annualmeanT[macamodel])\n",
    "                dfP.append(objdata.annualmeanP[macamodel])\n",
    "\n",
    "    return dfT,dfP,sel_maca,sel_basin"
   ]
  },
  {
   "cell_type": "code",
   "execution_count": 11,
   "metadata": {},
   "outputs": [],
   "source": [
    "def response(change):\n",
    "    \n",
    "    if rcpwdge.value=='RCP 4.5':\n",
    "        rcp='rcp45'\n",
    "    else:\n",
    "        rcp='rcp85'\n",
    "    zone=zonewdge.value[:5]\n",
    "    \n",
    "    if Tunitwdge.value=='C':\n",
    "        itunit=1\n",
    "    if Tunitwdge.value=='F':\n",
    "        itunit=2\n",
    "    if Tunitwdge.value=='K':\n",
    "        itunit=3\n",
    "    if Punitwdge.value=='mm':\n",
    "        ipunit=2\n",
    "    \n",
    "    if Punitwdge.value=='inches':\n",
    "        ipunit=1\n",
    "        \n",
    "    dfT=[]\n",
    "    dfP=[]\n",
    "    sel_maca=[]\n",
    "    sel_basin=[]\n",
    "    for basin in basinwdge.value:\n",
    "        objdata=Macadata(basin,filepath,zone,rcp,ipunit,itunit,False)\n",
    "    \n",
    "        for macamodel in macamodelwdge.value:\n",
    "            sel_maca.append(basin)\n",
    "            sel_basin.append(macamodel)\n",
    "            if timewdge.value=='Daily':\n",
    "                dfT.append(objdata.dailyT[macamodel])\n",
    "                dfP.append(objdata.dailyP[macamodel])\n",
    "            if timewdge.value=='Monthly':\n",
    "                dfT.append(objdata.monthlyT[macamodel])\n",
    "                dfP.append(objdata.monthlyP[macamodel])\n",
    "            if timewdge.value=='Yearly':\n",
    "                dfT.append(objdata.annualmeanT[macamodel])\n",
    "                dfP.append(objdata.annualmeanP[macamodel])\n",
    "\n",
    "    new_lines=len(dfP)\n",
    "    if new_lines>=200:\n",
    "        raise Exception(\"Sorry, total numbers of lines over 200!\")\n",
    "    \n",
    "    for i in range(200):\n",
    "        \n",
    "        if i <=new_lines-1:\n",
    "            basin=sel_basin[i]\n",
    "            macamodel=sel_maca[i]\n",
    "            label=[basin+ ': ' + macamodel]\n",
    "            plotP[i].labels=label\n",
    "            plotP[i].x=dfP[i].index\n",
    "            plotP[i].y=dfP[i].values\n",
    "\n",
    "            plotT[i].labels=label\n",
    "            plotT[i].x=dfT[i].index\n",
    "            plotT[i].y=dfT[i].values\n",
    "        else:\n",
    "            plotP[i].x=[]\n",
    "            plotP[i].y=[]\n",
    "            plotT[i].x=[]\n",
    "            plotT[i].y=[]\n",
    "\n",
    "                      \n",
    "    figP.title=timewdge.value +' Preciptation ' + '('+ Punitwdge.value +')' + ' at the ' + zonewdge.value  \n",
    "    figT.title=timewdge.value +' Temperature ' + '('+ Tunitwdge.value +')'+ ' at the ' + zonewdge.value \n",
    "    pylabel=timewdge.value +' Preciptation ' + '('+ Punitwdge.value +')'\n",
    "    pax_y.label=pylabel\n",
    "    tylabel=timewdge.value +' Temperature ' + '('+ Tunitwdge.value +')'\n",
    "    tax_y.label=tylabel\n",
    "    #print(len(dfP),len(dfT))\n",
    "    \n",
    "def redraw_date_range(date_range):\n",
    "    \n",
    "    datemin=date_range[0]\n",
    "    datemax=date_range[1]\n",
    "    for i in range(len(plotP)):\n",
    "        with plotP[i].hold_sync():\n",
    "            plotP[i].scales['x'].min = datemin\n",
    "            plotP[i].scales['x'].max = datemax\n",
    "            \n",
    "        with plotT[i].hold_sync():\n",
    "            plotT[i].scales['x'].min = datemin\n",
    "            plotT[i].scales['x'].max = datemax"
   ]
  },
  {
   "cell_type": "code",
   "execution_count": 12,
   "metadata": {},
   "outputs": [
    {
     "data": {
      "application/vnd.jupyter.widget-view+json": {
       "model_id": "354f844ccd154b1e90b6421635960a55",
       "version_major": 2,
       "version_minor": 0
      },
      "text/plain": [
       "GridspecLayout(children=(VBox(children=(SelectMultiple(description='Select basins:', index=(0,), options=('Fri…"
      ]
     },
     "metadata": {},
     "output_type": "display_data"
    },
    {
     "data": {
      "application/vnd.jupyter.widget-view+json": {
       "model_id": "c8d1c60a58a84a76a8fa47d23b66bdcc",
       "version_major": 2,
       "version_minor": 0
      },
      "text/plain": [
       "interactive(children=(SelectionRangeSlider(description='Select date range:', index=(0, 54786), options=((' 01 …"
      ]
     },
     "metadata": {},
     "output_type": "display_data"
    },
    {
     "data": {
      "text/plain": [
       "<function __main__.redraw_date_range(date_range)>"
      ]
     },
     "metadata": {},
     "output_type": "display_data"
    }
   ],
   "source": [
    "descstyle= {'description_width': 'initial'}\n",
    "\n",
    "basinwdge=widgets.SelectMultiple(\n",
    "    options=['Frio', 'Blanco'],\n",
    "    value=['Frio'],\n",
    "    description='Select basins:',\n",
    "    style=descstyle\n",
    "    \n",
    ")\n",
    "\n",
    "\n",
    "macamodelwdge=widgets.SelectMultiple(\n",
    "    options=['bcc-csm1-1-m', 'bcc-csm1-1', 'BNU-ESM', 'CanESM2', 'CCSM4', 'CNRM-CM5',\n",
    "       'CSIRO-Mk3-6-0', 'GFDL-ESM2G', 'GFDL-ESM2M', 'HadGEM2-CC365',\n",
    "       'HadGEM2-ES365', 'inmcm4', 'IPSL-CM5A-LR', 'IPSL-CM5A-MR',\n",
    "       'IPSL-CM5B-LR', 'MIROC-ESM-CHEM', 'MIROC-ESM', 'MIROC5', 'MRI-CGCM3',\n",
    "       'NorESM1-M'],\n",
    "    value=['bcc-csm1-1-m'],\n",
    "#    layout={'width': 'max-content'}, # If the items' names are long\n",
    "    description='Select MACA model:',\n",
    "    style=descstyle,\n",
    "    \n",
    "    disabled=False\n",
    ")\n",
    "\n",
    "zonewdge=widgets.Dropdown(\n",
    "    options=['Recharge zone', 'Contributing zone'],\n",
    "    value='Recharge zone', # Defaults to 'pineapple'\n",
    "#    layout={'width': 'max-content'}, # If the items' names are long\n",
    "    description='Select zone:',\n",
    "    style=descstyle,\n",
    "    \n",
    "    disabled=False\n",
    ")\n",
    "\n",
    "rcpwdge=widgets.Dropdown(\n",
    "    options=['RCP 4.5', 'RCP 8.5'],\n",
    "    value='RCP 4.5', # Defaults to 'pineapple'\n",
    "#    layout={'width': 'max-content'}, # If the items' names are long\n",
    "    description='Select historical or RCP(4.5 or 8.5):',\n",
    "    disabled=False,\n",
    "    style=descstyle,\n",
    "    \n",
    ")\n",
    "\n",
    "\n",
    "\n",
    "timewdge=widgets.Dropdown(\n",
    "    options=['Daily', 'Monthly', 'Yearly'],\n",
    "    value='Monthly',\n",
    "    description='Select time frequency:',\n",
    "    style=descstyle,\n",
    "    \n",
    ")\n",
    "\n",
    "Tunitwdge=widgets.Dropdown(\n",
    "    options=['C', 'F','K'],\n",
    "    value='C', # Defaults to 'pineapple'\n",
    "#    layout={'width': 'max-content'}, # If the items' names are long\n",
    "    description='Select Unit for temperature:',\n",
    "    disabled=False,\n",
    "    style=descstyle,\n",
    "    \n",
    ")\n",
    "\n",
    "Punitwdge=widgets.Dropdown(\n",
    "    options=['mm', 'inches'],\n",
    "    value='mm', # Defaults to 'pineapple'\n",
    "#    layout={'width': 'max-content'}, # If the items' names are long\n",
    "    description='Select Unit for temperature:',\n",
    "    disabled=False,\n",
    "    style=descstyle,\n",
    "    \n",
    ")\n",
    "\n",
    "\n",
    "start_date = datetime.datetime(1950, 1, 1)\n",
    "end_date = datetime.datetime(2099, 12, 31)\n",
    "\n",
    "dates = pd.date_range(start_date, end_date, freq='D')\n",
    "options = [(date.strftime(' %d %b %Y '), date) for date in dates]\n",
    "index = (0, len(options)-1)\n",
    "selection_range_slider = widgets.SelectionRangeSlider(\n",
    "    options=options,\n",
    "    index=index,\n",
    "    readout=False,\n",
    "    description='Select date range:',\n",
    "    style=descstyle\n",
    ")\n",
    "\n",
    "\n",
    "\n",
    "\n",
    "\n",
    "\n",
    "# Obtain the data\n",
    "    \n",
    "dfT,dfP,sel_maca,sel_basin = initializing_plot()\n",
    "\n",
    "\n",
    "## Define the plots\n",
    "fig_margin = dict(top=40, bottom=40, left=60, right=80)\n",
    "\n",
    "pylabel=timewdge.value +' Preciptation ' + '('+ Punitwdge.value +')'\n",
    "\n",
    "\n",
    "px_sc = DateScale()\n",
    "py_sc = LinearScale()\n",
    "pax_x = Axis(label='Date', scale=px_sc)#, grid_lines='solid', tick_format='0f')\n",
    "pax_y = Axis(label=pylabel, scale=py_sc, orientation='vertical')#, tick_format='0.2f')\n",
    "\n",
    "figP = plt.figure( axes=[pax_x, pax_y],\n",
    "                  title_style={'font-size': '15'},\n",
    "                  animation_duration=1000,\n",
    "                  fig_margin=fig_margin)\n",
    "figP.layout.height = '350px'\n",
    "plotP=[]\n",
    "for i in range(len(dfP)):\n",
    "    ts,basin,macamodel,color=dfP[i],sel_basin[i],sel_maca[i],colorline[i%60]\n",
    "    label=[basin+ ': ' + macamodel]\n",
    "    plotP.append(plt.plot(x=ts.index, y=ts.values,scales={'x': px_sc, 'y': py_sc},colors=[color],labels=label,legend_display=True))\n",
    "\n",
    "for i in range(len(dfP),200):\n",
    "    color=colorline[i%60]\n",
    "    plotP.append(plt.plot(x=[], y=[],scales={'x': px_sc, 'y': py_sc},colors=[color],labels=label,legend_display=True ))\n",
    "    \n",
    "    \n",
    "    \n",
    "figP.title=timewdge.value +' Preciptation ' + '('+ Punitwdge.value +')' + ' at the ' + zonewdge.value \n",
    "#plt.legend()\n",
    "\n",
    "### Prepare for the plot of temperature\n",
    "tylabel=timewdge.value +' Temperature ' + '('+ Tunitwdge.value +')'\n",
    "\n",
    "tx_sc = DateScale()\n",
    "ty_sc = LinearScale()\n",
    "\n",
    "tax_x = Axis(label='Date', scale=tx_sc)#, grid_lines='solid', tick_format='0f')\n",
    "tax_y = Axis(label=tylabel, scale=ty_sc, orientation='vertical')#, tick_format='0.2f')\n",
    "\n",
    "figT = plt.figure(axes=[tax_x, tax_y],\n",
    "                  title_style={'font-size': '15'},\n",
    "                  animation_duration=1000,\n",
    "                  fig_margin=fig_margin)\n",
    "\n",
    "plotT=[]\n",
    "\n",
    "\n",
    "for i in range(len(dfT)):\n",
    "    ts,basin,macamodel,color=dfT[i],sel_basin[i],sel_maca[i],colorline[i%60]\n",
    "    label=[basin+ ': ' + macamodel]\n",
    "    plotT.append(plt.plot(x=ts.index, y=ts.values,scales={'x': tx_sc, 'y': ty_sc},colors=[color],labels=label,legend_display=True))\n",
    "for i in range(len(dfT),200):\n",
    "    color=colorline[i%60]\n",
    "    plotT.append(plt.plot(x=[], y=[],scales={'x': tx_sc, 'y': ty_sc},colors=[color],labels=label,legend_display=True ))\n",
    "    \n",
    "figT.title=timewdge.value +' Temperature ' + '('+ Tunitwdge.value +')' + \\\n",
    "        ' at the ' + zonewdge.value \n",
    "\n",
    "figT.layout.height = '350px'\n",
    "#plt.legend()\n",
    "\n",
    "\n",
    "\n",
    "controller = widgets.VBox(children=[basinwdge\n",
    "                                    ,macamodelwdge\n",
    "                                    ,zonewdge\n",
    "                                    ,rcpwdge\n",
    "                                    ,timewdge\n",
    "                                    ,Tunitwdge\n",
    "                                    ,Punitwdge\n",
    "                                   ])\n",
    "\n",
    "\n",
    "plotwdge = widgets.VBox(children=[figP,figT])\n",
    "\n",
    "box_layout = Layout(align_items='center')\n",
    "\n",
    "grid = GridspecLayout(1, 3,layout=box_layout)#,height='500px')\n",
    "\n",
    "grid[0,0]=controller\n",
    "#grid[1,0]=test\n",
    "grid[0,1:]=plotwdge\n",
    "\n",
    "    \n",
    "    \n",
    "basinwdge.observe(response, names=\"value\")\n",
    "timewdge.observe(response, names=\"value\")\n",
    "macamodelwdge.observe(response, names=\"value\")\n",
    "rcpwdge.observe(response, names=\"value\")\n",
    "zonewdge.observe(response, names=\"value\")\n",
    "\n",
    "Tunitwdge.observe(response, names=\"value\")\n",
    "Punitwdge.observe(response, names=\"value\")\n",
    "\n",
    "\n",
    "#selection_range_slider.observe(response, names=\"value\")\n",
    "\n",
    "\n",
    "\n",
    "display(grid)\n",
    "h=widgets.interact(redraw_date_range,\n",
    "    date_range=selection_range_slider)\n",
    "display(h)"
   ]
  },
  {
   "cell_type": "code",
   "execution_count": null,
   "metadata": {},
   "outputs": [],
   "source": []
  }
 ],
 "metadata": {
  "kernelspec": {
   "display_name": "Python 3",
   "language": "python",
   "name": "python3"
  },
  "language_info": {
   "codemirror_mode": {
    "name": "ipython",
    "version": 3
   },
   "file_extension": ".py",
   "mimetype": "text/x-python",
   "name": "python",
   "nbconvert_exporter": "python",
   "pygments_lexer": "ipython3",
   "version": "3.8.5"
  }
 },
 "nbformat": 4,
 "nbformat_minor": 4
}
